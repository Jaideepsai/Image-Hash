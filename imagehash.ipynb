{
 "cells": [
  {
   "cell_type": "code",
   "execution_count": 34,
   "metadata": {},
   "outputs": [],
   "source": [
    "from PIL import Image\n",
    "import imagehash"
   ]
  },
  {
   "cell_type": "code",
   "execution_count": 35,
   "metadata": {},
   "outputs": [
    {
     "name": "stdout",
     "output_type": "stream",
     "text": [
      "fffeafe82c070100\n",
      "ffffbfeeac270100\n",
      "b3dd24847a219f8e\n",
      "e4f8585949cccfcd\n"
     ]
    }
   ],
   "source": [
    "hash = imagehash.whash(Image.open('/Users/jaideep/Desktop/Airbnb/Airbnb_Full_Project_files_2/Code/old/253650_0.png'))\n",
    "print(hash)\n",
    "hash = imagehash.average_hash(Image.open('/Users/jaideep/Desktop/Airbnb/Airbnb_Full_Project_files_2/Code/old/253650_0.png'))\n",
    "print(hash)\n",
    "hash = imagehash.phash(Image.open('/Users/jaideep/Desktop/Airbnb/Airbnb_Full_Project_files_2/Code/old/253650_0.png'))\n",
    "print(hash)\n",
    "hash = imagehash.dhash(Image.open('/Users/jaideep/Desktop/Airbnb/Airbnb_Full_Project_files_2/Code/old/253650_0.png'))\n",
    "print(hash)"
   ]
  },
  {
   "cell_type": "code",
   "execution_count": 36,
   "metadata": {},
   "outputs": [
    {
     "name": "stdout",
     "output_type": "stream",
     "text": [
      "ffff7f6507028000\n",
      "ffffffe597c3c004\n",
      "b68b59ec1661959c\n",
      "9dd55dc565068f1c\n"
     ]
    }
   ],
   "source": [
    "other = imagehash.whash(Image.open('/Users/jaideep/Desktop/Airbnb/Airbnb_Full_Project_files_2/Code/new/253650_0.png'))\n",
    "print(other)\n",
    "other = imagehash.average_hash(Image.open('/Users/jaideep/Desktop/Airbnb/Airbnb_Full_Project_files_2/Code/new/253650_0.png'))\n",
    "print(other)\n",
    "other = imagehash.phash(Image.open('/Users/jaideep/Desktop/Airbnb/Airbnb_Full_Project_files_2/Code/new/253650_0.png'))\n",
    "print(other)\n",
    "other = imagehash.dhash(Image.open('/Users/jaideep/Desktop/Airbnb/Airbnb_Full_Project_files_2/Code/new/253650_0.png'))\n",
    "print(other)"
   ]
  },
  {
   "cell_type": "code",
   "execution_count": null,
   "metadata": {},
   "outputs": [],
   "source": []
  }
 ],
 "metadata": {
  "kernelspec": {
   "display_name": "Python 2",
   "language": "python",
   "name": "python2"
  },
  "language_info": {
   "codemirror_mode": {
    "name": "ipython",
    "version": 2
   },
   "file_extension": ".py",
   "mimetype": "text/x-python",
   "name": "python",
   "nbconvert_exporter": "python",
   "pygments_lexer": "ipython2",
   "version": "2.7.14"
  },
  "widgets": {
   "state": {},
   "version": "1.1.2"
  }
 },
 "nbformat": 4,
 "nbformat_minor": 2
}
