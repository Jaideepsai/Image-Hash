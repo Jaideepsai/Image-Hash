{
 "cells": [
  {
   "cell_type": "code",
   "execution_count": 78,
   "metadata": {},
   "outputs": [],
   "source": [
    "from PIL import Image\n",
    "import imagehash\n",
    "import numpy as np\n",
    "import pandas as pd"
   ]
  },
  {
   "cell_type": "code",
   "execution_count": 79,
   "metadata": {},
   "outputs": [],
   "source": [
    "df=pd.read_csv(\"/Users/jaideep/Desktop/Airbnb/Airbnb_Full_Project_files_2/Data/Rerun/Panel/airbnb_handcoded.csv\")"
   ]
  },
  {
   "cell_type": "code",
   "execution_count": 80,
   "metadata": {},
   "outputs": [],
   "source": [
    "path_old=\"/Users/jaideep/Desktop/Airbnb/Airbnb_Full_Project_files_2/Code/old/\"\n",
    "path_new=\"/Users/jaideep/Desktop/Airbnb/Airbnb_Full_Project_files_2/Code/new/\"\n",
    "a=[];b=[];c=[];d=[];e=[];f=[];\n",
    "for index,row in df.iterrows():\n",
    "    if row[\"IsFirstImageVerifiedInOldFiles\"]==\"1\":\n",
    "        a.append(row[\"ListingId\"])\n",
    "        b.append(\"1\")\n",
    "        \n",
    "        img_path_old=path_old+str(row[\"ListingId\"])+\"_0.png\"\n",
    "        img_path_new=path_new+str(row[\"ListingId\"])+\"_0_verified.png\"\n",
    "        \n",
    "        whash_old = imagehash.whash(Image.open(img_path_old))\n",
    "        phash_old = imagehash.phash(Image.open(img_path_old))\n",
    "        avghash_old = imagehash.average_hash(Image.open(img_path_old))\n",
    "        dhash_old = imagehash.dhash(Image.open(img_path_old))\n",
    "                                                   \n",
    "        whash_new = imagehash.whash(Image.open(img_path_new))\n",
    "        phash_new = imagehash.phash(Image.open(img_path_new))\n",
    "        avghash_new = imagehash.average_hash(Image.open(img_path_new))\n",
    "        dhash_new = imagehash.dhash(Image.open(img_path_new))\n",
    "        \n",
    "        if whash_new==whash_old:\n",
    "            c.append(\"1\");\n",
    "        else:\n",
    "            c.append(\" \");\n",
    "        if phash_new==phash_old:\n",
    "            d.append(\"1\")\n",
    "        else:\n",
    "            d.append(\" \");\n",
    "        \n",
    "        if avghash_new==avghash_old:\n",
    "            e.append(\"1\");\n",
    "        else:\n",
    "            e.append(\" \");\n",
    "        if dhash_new==dhash_old:\n",
    "            f.append(\"1\")\n",
    "        else:\n",
    "            f.append(\" \");\n",
    "        \n",
    "    elif row[\"IsFirstImageVerifiedInOldFiles\"]==\"0\":\n",
    "        \n",
    "        a.append(row[\"ListingId\"])\n",
    "        b.append(\"0\")\n",
    "        img_path_old=path_old+str(row[\"ListingId\"])+\"_0.png\"\n",
    "        img_path_new=path_new+str(row[\"ListingId\"])+\"_0.png\"\n",
    "        \n",
    "        whash_old = imagehash.whash(Image.open(img_path_old))\n",
    "        phash_old = imagehash.phash(Image.open(img_path_old))\n",
    "        avghash_old = imagehash.average_hash(Image.open(img_path_old))\n",
    "        dhash_old = imagehash.dhash(Image.open(img_path_old))\n",
    "                                                   \n",
    "        whash_new = imagehash.whash(Image.open(img_path_new))\n",
    "        phash_new = imagehash.phash(Image.open(img_path_new))\n",
    "        avghash_new = imagehash.average_hash(Image.open(img_path_new))\n",
    "        dhash_new = imagehash.dhash(Image.open(img_path_new))\n",
    "        \n",
    "        if whash_new==whash_old:\n",
    "            c.append(\"0\");\n",
    "        else:\n",
    "            c.append(\" \");\n",
    "        if phash_new==phash_old:\n",
    "            d.append(\"0\")\n",
    "        else:\n",
    "            d.append(\" \");\n",
    "        if avghash_new==avghash_old:\n",
    "            e.append(\"0\");\n",
    "        else:\n",
    "            e.append(\" \");\n",
    "        if dhash_new==dhash_old:\n",
    "            f.append(\"0\")\n",
    "        else:\n",
    "            f.append(\" \");"
   ]
  },
  {
   "cell_type": "code",
   "execution_count": 83,
   "metadata": {},
   "outputs": [],
   "source": [
    "df_compared = pd.DataFrame(\n",
    "    {'id':a,\n",
    "     'manual_verified':b,\n",
    "     \"whash\":c,\n",
    "     \"phash\":d,\n",
    "     'avghash':e,\n",
    "     'dhash':f   \n",
    "    })"
   ]
  },
  {
   "cell_type": "code",
   "execution_count": 85,
   "metadata": {},
   "outputs": [],
   "source": [
    "df_compared.to_csv(\"image_hash.csv\",sep=\",\")"
   ]
  },
  {
   "cell_type": "code",
   "execution_count": null,
   "metadata": {},
   "outputs": [],
   "source": []
  }
 ],
 "metadata": {
  "kernelspec": {
   "display_name": "Python 2",
   "language": "python",
   "name": "python2"
  },
  "language_info": {
   "codemirror_mode": {
    "name": "ipython",
    "version": 2
   },
   "file_extension": ".py",
   "mimetype": "text/x-python",
   "name": "python",
   "nbconvert_exporter": "python",
   "pygments_lexer": "ipython2",
   "version": "2.7.14"
  },
  "widgets": {
   "state": {},
   "version": "1.1.2"
  }
 },
 "nbformat": 4,
 "nbformat_minor": 2
}
